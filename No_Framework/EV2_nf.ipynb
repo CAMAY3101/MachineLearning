{
 "cells": [
  {
   "cell_type": "code",
   "execution_count": 66,
   "metadata": {},
   "outputs": [],
   "source": [
    "import numpy as np\n",
    "import pandas as pd\n",
    "from scipy.stats import t\n",
    "from scipy.stats import f\n",
    "from scipy import stats\n"
   ]
  },
  {
   "cell_type": "code",
   "execution_count": 78,
   "metadata": {},
   "outputs": [
    {
     "data": {
      "text/html": [
       "<div>\n",
       "<style scoped>\n",
       "    .dataframe tbody tr th:only-of-type {\n",
       "        vertical-align: middle;\n",
       "    }\n",
       "\n",
       "    .dataframe tbody tr th {\n",
       "        vertical-align: top;\n",
       "    }\n",
       "\n",
       "    .dataframe thead th {\n",
       "        text-align: right;\n",
       "    }\n",
       "</style>\n",
       "<table border=\"1\" class=\"dataframe\">\n",
       "  <thead>\n",
       "    <tr style=\"text-align: right;\">\n",
       "      <th></th>\n",
       "      <th>class</th>\n",
       "      <th>Alcohol</th>\n",
       "      <th>Malic acid</th>\n",
       "      <th>Ash</th>\n",
       "      <th>Alcalinity of ash</th>\n",
       "      <th>Magnesium</th>\n",
       "      <th>Total phenols</th>\n",
       "      <th>Flavanoids</th>\n",
       "      <th>Nonflavanoid phenols</th>\n",
       "      <th>Proanthocyanins</th>\n",
       "      <th>Color intensity</th>\n",
       "      <th>Hue</th>\n",
       "      <th>OD280/OD315 of diluted wines</th>\n",
       "      <th>Proline</th>\n",
       "    </tr>\n",
       "  </thead>\n",
       "  <tbody>\n",
       "    <tr>\n",
       "      <th>0</th>\n",
       "      <td>1</td>\n",
       "      <td>14.23</td>\n",
       "      <td>1.71</td>\n",
       "      <td>2.43</td>\n",
       "      <td>15.6</td>\n",
       "      <td>127</td>\n",
       "      <td>2.80</td>\n",
       "      <td>3.06</td>\n",
       "      <td>0.28</td>\n",
       "      <td>2.29</td>\n",
       "      <td>5.64</td>\n",
       "      <td>1.04</td>\n",
       "      <td>3.92</td>\n",
       "      <td>1065</td>\n",
       "    </tr>\n",
       "    <tr>\n",
       "      <th>1</th>\n",
       "      <td>1</td>\n",
       "      <td>13.20</td>\n",
       "      <td>1.78</td>\n",
       "      <td>2.14</td>\n",
       "      <td>11.2</td>\n",
       "      <td>100</td>\n",
       "      <td>2.65</td>\n",
       "      <td>2.76</td>\n",
       "      <td>0.26</td>\n",
       "      <td>1.28</td>\n",
       "      <td>4.38</td>\n",
       "      <td>1.05</td>\n",
       "      <td>3.40</td>\n",
       "      <td>1050</td>\n",
       "    </tr>\n",
       "    <tr>\n",
       "      <th>2</th>\n",
       "      <td>1</td>\n",
       "      <td>13.16</td>\n",
       "      <td>2.36</td>\n",
       "      <td>2.67</td>\n",
       "      <td>18.6</td>\n",
       "      <td>101</td>\n",
       "      <td>2.80</td>\n",
       "      <td>3.24</td>\n",
       "      <td>0.30</td>\n",
       "      <td>2.81</td>\n",
       "      <td>5.68</td>\n",
       "      <td>1.03</td>\n",
       "      <td>3.17</td>\n",
       "      <td>1185</td>\n",
       "    </tr>\n",
       "    <tr>\n",
       "      <th>3</th>\n",
       "      <td>1</td>\n",
       "      <td>14.37</td>\n",
       "      <td>1.95</td>\n",
       "      <td>2.50</td>\n",
       "      <td>16.8</td>\n",
       "      <td>113</td>\n",
       "      <td>3.85</td>\n",
       "      <td>3.49</td>\n",
       "      <td>0.24</td>\n",
       "      <td>2.18</td>\n",
       "      <td>7.80</td>\n",
       "      <td>0.86</td>\n",
       "      <td>3.45</td>\n",
       "      <td>1480</td>\n",
       "    </tr>\n",
       "    <tr>\n",
       "      <th>4</th>\n",
       "      <td>1</td>\n",
       "      <td>13.24</td>\n",
       "      <td>2.59</td>\n",
       "      <td>2.87</td>\n",
       "      <td>21.0</td>\n",
       "      <td>118</td>\n",
       "      <td>2.80</td>\n",
       "      <td>2.69</td>\n",
       "      <td>0.39</td>\n",
       "      <td>1.82</td>\n",
       "      <td>4.32</td>\n",
       "      <td>1.04</td>\n",
       "      <td>2.93</td>\n",
       "      <td>735</td>\n",
       "    </tr>\n",
       "  </tbody>\n",
       "</table>\n",
       "</div>"
      ],
      "text/plain": [
       "   class  Alcohol  Malic acid   Ash  Alcalinity of ash  Magnesium  \\\n",
       "0      1    14.23        1.71  2.43               15.6        127   \n",
       "1      1    13.20        1.78  2.14               11.2        100   \n",
       "2      1    13.16        2.36  2.67               18.6        101   \n",
       "3      1    14.37        1.95  2.50               16.8        113   \n",
       "4      1    13.24        2.59  2.87               21.0        118   \n",
       "\n",
       "   Total phenols  Flavanoids  Nonflavanoid phenols  Proanthocyanins  \\\n",
       "0           2.80        3.06                  0.28             2.29   \n",
       "1           2.65        2.76                  0.26             1.28   \n",
       "2           2.80        3.24                  0.30             2.81   \n",
       "3           3.85        3.49                  0.24             2.18   \n",
       "4           2.80        2.69                  0.39             1.82   \n",
       "\n",
       "   Color intensity   Hue  OD280/OD315 of diluted wines  Proline  \n",
       "0             5.64  1.04                          3.92     1065  \n",
       "1             4.38  1.05                          3.40     1050  \n",
       "2             5.68  1.03                          3.17     1185  \n",
       "3             7.80  0.86                          3.45     1480  \n",
       "4             4.32  1.04                          2.93      735  "
      ]
     },
     "execution_count": 78,
     "metadata": {},
     "output_type": "execute_result"
    }
   ],
   "source": [
    "columns = [\"class\", \"Alcohol\", \"Malic acid\", \"Ash\", \"Alcalinity of ash\", \"Magnesium\", \"Total phenols\",  \"Flavanoids\", \"Nonflavanoid phenols\", \"Proanthocyanins\", \"Color intensity\", \"Hue\", \"OD280/OD315 of diluted wines\", \"Proline\"]\n",
    "df = pd.read_csv('datasets/wine.data', names = columns)\n",
    "df.head()"
   ]
  },
  {
   "cell_type": "code",
   "execution_count": 80,
   "metadata": {},
   "outputs": [],
   "source": [
    "#class for a regression model for a pandas dataframe for more than two independent variables and one dependent variable\n",
    "\n",
    "class RegressionModel:\n",
    "    def __init__(self, df, dependent_variable, independent_variables):\n",
    "        self.df = df\n",
    "        self.dependent_variable = dependent_variable\n",
    "        self.independent_variables = independent_variables\n",
    "        self.coefficients = self.get_coefficients()\n",
    "        self.intercept = self.get_intercept()\n",
    "        self.predicted = self.get_predicted()\n",
    "        self.residuals = self.get_residuals()\n",
    "        self.r_squared = self.get_r_squared()\n",
    "        self.f_statistic = self.get_f_statistic()\n",
    "        self.f_p_value = self.get_f_p_value()\n",
    "        self.t_statistics = self.get_t_statistics()\n",
    "        self.t_p_values = self.get_t_p_values()\n",
    "        self.summary = self.get_summary()\n",
    "        \n",
    "    def get_coefficients(self):\n",
    "        return np.linalg.inv(self.df[self.independent_variables].T.dot(self.df[self.independent_variables])).dot(self.df[self.independent_variables].T).dot(self.df[self.dependent_variable])\n",
    "    def get_intercept(self):\n",
    "        return np.mean(self.df[self.dependent_variable]) - np.mean(self.df[self.independent_variables].dot(self.coefficients))\n",
    "    \n",
    "    def get_predicted(self):\n",
    "        return self.df[self.independent_variables].dot(self.coefficients) + self.intercept\n",
    "    \n",
    "    def get_residuals(self):\n",
    "        return self.df[self.dependent_variable] - self.predicted\n",
    "    \n",
    "    def get_r_squared(self):\n",
    "        return 1 - (np.sum(self.residuals ** 2) / np.sum((self.df[self.dependent_variable] - np.mean(self.df[self.dependent_variable])) ** 2))\n",
    "    \n",
    "    def get_f_statistic(self):\n",
    "        return (self.r_squared / (len(self.independent_variables) - 1)) / ((1 - self.r_squared) / (len(self.df) - len(self.independent_variables)))\n",
    "    \n",
    "    def get_f_p_value(self):\n",
    "        return 1 - stats.f.cdf(self.f_statistic, len(self.independent_variables) - 1, len(self.df) - len(self.independent_variables))\n",
    "    \n",
    "    def get_t_statistics(self):\n",
    "        return self.coefficients / np.sqrt(np.diag(np.linalg.inv(self.df[self.independent_variables].T.dot(self.df[self.independent_variables]))))\n",
    "    \n",
    "    def get_t_p_values(self):\n",
    "        return 2 * (1 - stats.t.cdf(np.abs(self.t_statistics), len(self.df) - len(self.independent_variables)))\n",
    "    \n",
    "    def get_summary(self):\n",
    "        summary = pd.DataFrame\n",
    "        return summary\n"
   ]
  },
  {
   "cell_type": "code",
   "execution_count": 79,
   "metadata": {},
   "outputs": [
    {
     "name": "stdout",
     "output_type": "stream",
     "text": [
      "<class 'pandas.core.frame.DataFrame'>\n"
     ]
    }
   ],
   "source": [
    "#create a regression model for the wine dataset\n",
    "wine_model = RegressionModel(df, \"Alcohol\", [\"Malic acid\", \"Ash\", \"Alcalinity of ash\", \"Magnesium\", \"Total phenols\",  \"Flavanoids\", \"Nonflavanoid phenols\", \"Proanthocyanins\", \"Color intensity\", \"Hue\", \"OD280/OD315 of diluted wines\", \"Proline\"])"
   ]
  },
  {
   "cell_type": "code",
   "execution_count": 93,
   "metadata": {},
   "outputs": [
    {
     "data": {
      "text/plain": [
       "12"
      ]
     },
     "execution_count": 93,
     "metadata": {},
     "output_type": "execute_result"
    }
   ],
   "source": [
    "wine_model.get_coefficients()\n"
   ]
  },
  {
   "cell_type": "code",
   "execution_count": 82,
   "metadata": {},
   "outputs": [
    {
     "data": {
      "text/plain": [
       "0.05026498289710979"
      ]
     },
     "execution_count": 82,
     "metadata": {},
     "output_type": "execute_result"
    }
   ],
   "source": [
    "wine_model.get_intercept()"
   ]
  },
  {
   "cell_type": "code",
   "execution_count": 90,
   "metadata": {},
   "outputs": [
    {
     "data": {
      "text/plain": [
       "pandas.core.series.Series"
      ]
     },
     "execution_count": 90,
     "metadata": {},
     "output_type": "execute_result"
    }
   ],
   "source": [
    "wine_model.get_predicted()"
   ]
  },
  {
   "cell_type": "code",
   "execution_count": 100,
   "metadata": {},
   "outputs": [
    {
     "data": {
      "text/html": [
       "<div>\n",
       "<style scoped>\n",
       "    .dataframe tbody tr th:only-of-type {\n",
       "        vertical-align: middle;\n",
       "    }\n",
       "\n",
       "    .dataframe tbody tr th {\n",
       "        vertical-align: top;\n",
       "    }\n",
       "\n",
       "    .dataframe thead th {\n",
       "        text-align: right;\n",
       "    }\n",
       "</style>\n",
       "<table border=\"1\" class=\"dataframe\">\n",
       "  <thead>\n",
       "    <tr style=\"text-align: right;\">\n",
       "      <th></th>\n",
       "      <th>Actual</th>\n",
       "      <th>Predicted</th>\n",
       "      <th>Diferencia</th>\n",
       "      <th>Residuals</th>\n",
       "    </tr>\n",
       "  </thead>\n",
       "  <tbody>\n",
       "    <tr>\n",
       "      <th>0</th>\n",
       "      <td>14.23</td>\n",
       "      <td>14.664617</td>\n",
       "      <td>-0.434617</td>\n",
       "      <td>-0.434617</td>\n",
       "    </tr>\n",
       "    <tr>\n",
       "      <th>1</th>\n",
       "      <td>13.20</td>\n",
       "      <td>12.936429</td>\n",
       "      <td>0.263571</td>\n",
       "      <td>0.263571</td>\n",
       "    </tr>\n",
       "    <tr>\n",
       "      <th>2</th>\n",
       "      <td>13.16</td>\n",
       "      <td>13.776985</td>\n",
       "      <td>-0.616985</td>\n",
       "      <td>-0.616985</td>\n",
       "    </tr>\n",
       "    <tr>\n",
       "      <th>3</th>\n",
       "      <td>14.37</td>\n",
       "      <td>14.736803</td>\n",
       "      <td>-0.366803</td>\n",
       "      <td>-0.366803</td>\n",
       "    </tr>\n",
       "    <tr>\n",
       "      <th>4</th>\n",
       "      <td>13.24</td>\n",
       "      <td>14.067924</td>\n",
       "      <td>-0.827924</td>\n",
       "      <td>-0.827924</td>\n",
       "    </tr>\n",
       "    <tr>\n",
       "      <th>5</th>\n",
       "      <td>14.20</td>\n",
       "      <td>14.130466</td>\n",
       "      <td>0.069534</td>\n",
       "      <td>0.069534</td>\n",
       "    </tr>\n",
       "    <tr>\n",
       "      <th>6</th>\n",
       "      <td>14.39</td>\n",
       "      <td>13.757229</td>\n",
       "      <td>0.632771</td>\n",
       "      <td>0.632771</td>\n",
       "    </tr>\n",
       "    <tr>\n",
       "      <th>7</th>\n",
       "      <td>14.06</td>\n",
       "      <td>14.876303</td>\n",
       "      <td>-0.816303</td>\n",
       "      <td>-0.816303</td>\n",
       "    </tr>\n",
       "    <tr>\n",
       "      <th>8</th>\n",
       "      <td>14.83</td>\n",
       "      <td>12.728825</td>\n",
       "      <td>2.101175</td>\n",
       "      <td>2.101175</td>\n",
       "    </tr>\n",
       "    <tr>\n",
       "      <th>9</th>\n",
       "      <td>13.86</td>\n",
       "      <td>13.837958</td>\n",
       "      <td>0.022042</td>\n",
       "      <td>0.022042</td>\n",
       "    </tr>\n",
       "    <tr>\n",
       "      <th>10</th>\n",
       "      <td>14.10</td>\n",
       "      <td>14.313030</td>\n",
       "      <td>-0.213030</td>\n",
       "      <td>-0.213030</td>\n",
       "    </tr>\n",
       "    <tr>\n",
       "      <th>11</th>\n",
       "      <td>14.12</td>\n",
       "      <td>13.132773</td>\n",
       "      <td>0.987227</td>\n",
       "      <td>0.987227</td>\n",
       "    </tr>\n",
       "    <tr>\n",
       "      <th>12</th>\n",
       "      <td>13.75</td>\n",
       "      <td>13.364003</td>\n",
       "      <td>0.385997</td>\n",
       "      <td>0.385997</td>\n",
       "    </tr>\n",
       "    <tr>\n",
       "      <th>13</th>\n",
       "      <td>14.75</td>\n",
       "      <td>13.026071</td>\n",
       "      <td>1.723929</td>\n",
       "      <td>1.723929</td>\n",
       "    </tr>\n",
       "    <tr>\n",
       "      <th>14</th>\n",
       "      <td>14.38</td>\n",
       "      <td>14.293666</td>\n",
       "      <td>0.086334</td>\n",
       "      <td>0.086334</td>\n",
       "    </tr>\n",
       "    <tr>\n",
       "      <th>15</th>\n",
       "      <td>13.63</td>\n",
       "      <td>15.159123</td>\n",
       "      <td>-1.529123</td>\n",
       "      <td>-1.529123</td>\n",
       "    </tr>\n",
       "    <tr>\n",
       "      <th>16</th>\n",
       "      <td>14.30</td>\n",
       "      <td>14.238483</td>\n",
       "      <td>0.061517</td>\n",
       "      <td>0.061517</td>\n",
       "    </tr>\n",
       "    <tr>\n",
       "      <th>17</th>\n",
       "      <td>13.83</td>\n",
       "      <td>14.149088</td>\n",
       "      <td>-0.319088</td>\n",
       "      <td>-0.319088</td>\n",
       "    </tr>\n",
       "    <tr>\n",
       "      <th>18</th>\n",
       "      <td>14.19</td>\n",
       "      <td>15.046933</td>\n",
       "      <td>-0.856933</td>\n",
       "      <td>-0.856933</td>\n",
       "    </tr>\n",
       "    <tr>\n",
       "      <th>19</th>\n",
       "      <td>13.64</td>\n",
       "      <td>13.749763</td>\n",
       "      <td>-0.109763</td>\n",
       "      <td>-0.109763</td>\n",
       "    </tr>\n",
       "    <tr>\n",
       "      <th>20</th>\n",
       "      <td>14.06</td>\n",
       "      <td>14.294915</td>\n",
       "      <td>-0.234915</td>\n",
       "      <td>-0.234915</td>\n",
       "    </tr>\n",
       "    <tr>\n",
       "      <th>21</th>\n",
       "      <td>12.93</td>\n",
       "      <td>14.179586</td>\n",
       "      <td>-1.249586</td>\n",
       "      <td>-1.249586</td>\n",
       "    </tr>\n",
       "    <tr>\n",
       "      <th>22</th>\n",
       "      <td>13.71</td>\n",
       "      <td>13.753120</td>\n",
       "      <td>-0.043120</td>\n",
       "      <td>-0.043120</td>\n",
       "    </tr>\n",
       "    <tr>\n",
       "      <th>23</th>\n",
       "      <td>12.85</td>\n",
       "      <td>13.489081</td>\n",
       "      <td>-0.639081</td>\n",
       "      <td>-0.639081</td>\n",
       "    </tr>\n",
       "    <tr>\n",
       "      <th>24</th>\n",
       "      <td>13.50</td>\n",
       "      <td>13.663736</td>\n",
       "      <td>-0.163736</td>\n",
       "      <td>-0.163736</td>\n",
       "    </tr>\n",
       "  </tbody>\n",
       "</table>\n",
       "</div>"
      ],
      "text/plain": [
       "    Actual  Predicted  Diferencia  Residuals\n",
       "0    14.23  14.664617   -0.434617  -0.434617\n",
       "1    13.20  12.936429    0.263571   0.263571\n",
       "2    13.16  13.776985   -0.616985  -0.616985\n",
       "3    14.37  14.736803   -0.366803  -0.366803\n",
       "4    13.24  14.067924   -0.827924  -0.827924\n",
       "5    14.20  14.130466    0.069534   0.069534\n",
       "6    14.39  13.757229    0.632771   0.632771\n",
       "7    14.06  14.876303   -0.816303  -0.816303\n",
       "8    14.83  12.728825    2.101175   2.101175\n",
       "9    13.86  13.837958    0.022042   0.022042\n",
       "10   14.10  14.313030   -0.213030  -0.213030\n",
       "11   14.12  13.132773    0.987227   0.987227\n",
       "12   13.75  13.364003    0.385997   0.385997\n",
       "13   14.75  13.026071    1.723929   1.723929\n",
       "14   14.38  14.293666    0.086334   0.086334\n",
       "15   13.63  15.159123   -1.529123  -1.529123\n",
       "16   14.30  14.238483    0.061517   0.061517\n",
       "17   13.83  14.149088   -0.319088  -0.319088\n",
       "18   14.19  15.046933   -0.856933  -0.856933\n",
       "19   13.64  13.749763   -0.109763  -0.109763\n",
       "20   14.06  14.294915   -0.234915  -0.234915\n",
       "21   12.93  14.179586   -1.249586  -1.249586\n",
       "22   13.71  13.753120   -0.043120  -0.043120\n",
       "23   12.85  13.489081   -0.639081  -0.639081\n",
       "24   13.50  13.663736   -0.163736  -0.163736"
      ]
     },
     "execution_count": 100,
     "metadata": {},
     "output_type": "execute_result"
    }
   ],
   "source": [
    "validacion = pd.DataFrame({'Actual': df['Alcohol'].values, 'Predicted': wine_model.get_predicted() , 'Diferencia': df['Alcohol'] - wine_model.get_predicted(), 'Residuals': wine_model.get_residuals() })\n",
    "l = validacion.head(25)\n",
    "l\n"
   ]
  },
  {
   "cell_type": "code",
   "execution_count": 98,
   "metadata": {},
   "outputs": [
    {
     "data": {
      "image/png": "[encoded data removed]",
      "text/plain": [
       "<Figure size 1440x720 with 1 Axes>"
      ]
     },
     "metadata": {
      "needs_background": "light"
     },
     "output_type": "display_data"
    }
   ],
   "source": [
    "import matplotlib.pyplot as plt  # importamos la librería que nos permitirá graficar\n",
    "\n",
    "# creamos un gráfico de barras con el dataframe que contiene nuestros datos actuales y de predicción\n",
    "l.plot.bar(rot=0, figsize=(20, 10))\n",
    "# indicamos el título del gráfico\n",
    "plt.title(\"Comparación \")\n",
    "# indicamos la etiqueta del eje de las x\n",
    "plt.xlabel(\"Muestra\")\n",
    "# indicamos la etiqueta del eje de las y, la cantidad de calorías\n",
    "plt.ylabel(\"Cantidad de Alcohol\")\n",
    "plt.show()  # desplegamos el gráfico"
   ]
  },
  {
   "cell_type": "code",
   "execution_count": 85,
   "metadata": {},
   "outputs": [
    {
     "data": {
      "text/plain": [
       "-0.251779579878866"
      ]
     },
     "execution_count": 85,
     "metadata": {},
     "output_type": "execute_result"
    }
   ],
   "source": [
    "wine_model.get_r_squared()"
   ]
  },
  {
   "cell_type": "code",
   "execution_count": 86,
   "metadata": {},
   "outputs": [
    {
     "data": {
      "text/plain": [
       "-3.035344889766403"
      ]
     },
     "execution_count": 86,
     "metadata": {},
     "output_type": "execute_result"
    }
   ],
   "source": [
    "wine_model.get_f_statistic()"
   ]
  },
  {
   "cell_type": "code",
   "execution_count": 87,
   "metadata": {},
   "outputs": [
    {
     "data": {
      "text/plain": [
       "1.0"
      ]
     },
     "execution_count": 87,
     "metadata": {},
     "output_type": "execute_result"
    }
   ],
   "source": [
    "wine_model.get_f_p_value()"
   ]
  },
  {
   "cell_type": "code",
   "execution_count": 88,
   "metadata": {},
   "outputs": [
    {
     "data": {
      "text/plain": [
       "array([ 4.14193334,  1.45093196,  1.34031802,  4.28731049,  1.56385795,\n",
       "       -2.30039255,  2.04345355, -0.63024407,  7.03892525,  5.67001997,\n",
       "        4.83553717,  1.66289128])"
      ]
     },
     "execution_count": 88,
     "metadata": {},
     "output_type": "execute_result"
    }
   ],
   "source": [
    "wine_model.get_t_statistics()"
   ]
  },
  {
   "cell_type": "code",
   "execution_count": 89,
   "metadata": {},
   "outputs": [
    {
     "data": {
      "text/plain": [
       "array([5.47204971e-05, 1.48685869e-01, 1.81973537e-01, 3.05901436e-05,\n",
       "       1.19755302e-01, 2.26704173e-02, 4.25882897e-02, 5.29401527e-01,\n",
       "       4.86743978e-11, 6.19875209e-08, 3.00947602e-06, 9.82211492e-02])"
      ]
     },
     "execution_count": 89,
     "metadata": {},
     "output_type": "execute_result"
    }
   ],
   "source": [
    "wine_model.get_t_p_values()"
   ]
  }
 ],
 "metadata": {
  "kernelspec": {
   "display_name": "Python 3.9.13 64-bit (microsoft store)",
   "language": "python",
   "name": "python3"
  },
  "language_info": {
   "codemirror_mode": {
    "name": "ipython",
    "version": 3
   },
   "file_extension": ".py",
   "mimetype": "text/x-python",
   "name": "python",
   "nbconvert_exporter": "python",
   "pygments_lexer": "ipython3",
   "version": "3.9.13"
  },
  "orig_nbformat": 4,
  "vscode": {
   "interpreter": {
    "hash": "3c6f7744ee2f5e8940864a1e7c241a18fa564ab205e0627474a2ada2d174fc93"
   }
  }
 },
 "nbformat": 4,
 "nbformat_minor": 2
}
