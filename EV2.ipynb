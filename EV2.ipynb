{
 "cells": [
  {
   "cell_type": "code",
<<<<<<< Updated upstream
   "execution_count": 130,
=======
   "execution_count": 156,
>>>>>>> Stashed changes
   "metadata": {},
   "outputs": [],
   "source": [
    "import pandas as pd\n",
    "import numpy as np\n",
    "import seaborn as sb\n",
    "import plotly.express as px\n",
    "import sklearn as sk\n",
    "import matplotlib.pyplot as plt"
   ]
  },
  {
   "cell_type": "code",
<<<<<<< Updated upstream
   "execution_count": 131,
=======
   "execution_count": 157,
>>>>>>> Stashed changes
   "metadata": {},
   "outputs": [
    {
     "data": {
      "text/html": [
       "<div>\n",
       "<style scoped>\n",
       "    .dataframe tbody tr th:only-of-type {\n",
       "        vertical-align: middle;\n",
       "    }\n",
       "\n",
       "    .dataframe tbody tr th {\n",
       "        vertical-align: top;\n",
       "    }\n",
       "\n",
       "    .dataframe thead th {\n",
       "        text-align: right;\n",
       "    }\n",
       "</style>\n",
       "<table border=\"1\" class=\"dataframe\">\n",
       "  <thead>\n",
       "    <tr style=\"text-align: right;\">\n",
       "      <th></th>\n",
       "      <th>class</th>\n",
       "      <th>Alcohol</th>\n",
       "      <th>Malic acid</th>\n",
       "      <th>Ash</th>\n",
       "      <th>Alcalinity of ash</th>\n",
       "      <th>Magnesium</th>\n",
       "      <th>Total phenols</th>\n",
       "      <th>Flavanoids</th>\n",
       "      <th>Nonflavanoid phenols</th>\n",
       "      <th>Proanthocyanins</th>\n",
       "      <th>Color intensity</th>\n",
       "      <th>Hue</th>\n",
       "      <th>OD280/OD315 of diluted wines</th>\n",
       "      <th>Proline</th>\n",
       "    </tr>\n",
       "  </thead>\n",
       "  <tbody>\n",
       "    <tr>\n",
       "      <th>0</th>\n",
       "      <td>1</td>\n",
       "      <td>14.23</td>\n",
       "      <td>1.71</td>\n",
       "      <td>2.43</td>\n",
       "      <td>15.6</td>\n",
       "      <td>127</td>\n",
       "      <td>2.80</td>\n",
       "      <td>3.06</td>\n",
       "      <td>0.28</td>\n",
       "      <td>2.29</td>\n",
       "      <td>5.64</td>\n",
       "      <td>1.04</td>\n",
       "      <td>3.92</td>\n",
       "      <td>1065</td>\n",
       "    </tr>\n",
       "    <tr>\n",
       "      <th>1</th>\n",
       "      <td>1</td>\n",
       "      <td>13.20</td>\n",
       "      <td>1.78</td>\n",
       "      <td>2.14</td>\n",
       "      <td>11.2</td>\n",
       "      <td>100</td>\n",
       "      <td>2.65</td>\n",
       "      <td>2.76</td>\n",
       "      <td>0.26</td>\n",
       "      <td>1.28</td>\n",
       "      <td>4.38</td>\n",
       "      <td>1.05</td>\n",
       "      <td>3.40</td>\n",
       "      <td>1050</td>\n",
       "    </tr>\n",
       "    <tr>\n",
       "      <th>2</th>\n",
       "      <td>1</td>\n",
       "      <td>13.16</td>\n",
       "      <td>2.36</td>\n",
       "      <td>2.67</td>\n",
       "      <td>18.6</td>\n",
       "      <td>101</td>\n",
       "      <td>2.80</td>\n",
       "      <td>3.24</td>\n",
       "      <td>0.30</td>\n",
       "      <td>2.81</td>\n",
       "      <td>5.68</td>\n",
       "      <td>1.03</td>\n",
       "      <td>3.17</td>\n",
       "      <td>1185</td>\n",
       "    </tr>\n",
       "    <tr>\n",
       "      <th>3</th>\n",
       "      <td>1</td>\n",
       "      <td>14.37</td>\n",
       "      <td>1.95</td>\n",
       "      <td>2.50</td>\n",
       "      <td>16.8</td>\n",
       "      <td>113</td>\n",
       "      <td>3.85</td>\n",
       "      <td>3.49</td>\n",
       "      <td>0.24</td>\n",
       "      <td>2.18</td>\n",
       "      <td>7.80</td>\n",
       "      <td>0.86</td>\n",
       "      <td>3.45</td>\n",
       "      <td>1480</td>\n",
       "    </tr>\n",
       "    <tr>\n",
       "      <th>4</th>\n",
       "      <td>1</td>\n",
       "      <td>13.24</td>\n",
       "      <td>2.59</td>\n",
       "      <td>2.87</td>\n",
       "      <td>21.0</td>\n",
       "      <td>118</td>\n",
       "      <td>2.80</td>\n",
       "      <td>2.69</td>\n",
       "      <td>0.39</td>\n",
       "      <td>1.82</td>\n",
       "      <td>4.32</td>\n",
       "      <td>1.04</td>\n",
       "      <td>2.93</td>\n",
       "      <td>735</td>\n",
       "    </tr>\n",
       "  </tbody>\n",
       "</table>\n",
       "</div>"
      ],
      "text/plain": [
       "   class  Alcohol  Malic acid   Ash  Alcalinity of ash  Magnesium  \\\n",
       "0      1    14.23        1.71  2.43               15.6        127   \n",
       "1      1    13.20        1.78  2.14               11.2        100   \n",
       "2      1    13.16        2.36  2.67               18.6        101   \n",
       "3      1    14.37        1.95  2.50               16.8        113   \n",
       "4      1    13.24        2.59  2.87               21.0        118   \n",
       "\n",
       "   Total phenols  Flavanoids  Nonflavanoid phenols  Proanthocyanins  \\\n",
       "0           2.80        3.06                  0.28             2.29   \n",
       "1           2.65        2.76                  0.26             1.28   \n",
       "2           2.80        3.24                  0.30             2.81   \n",
       "3           3.85        3.49                  0.24             2.18   \n",
       "4           2.80        2.69                  0.39             1.82   \n",
       "\n",
       "   Color intensity   Hue  OD280/OD315 of diluted wines  Proline  \n",
       "0             5.64  1.04                          3.92     1065  \n",
       "1             4.38  1.05                          3.40     1050  \n",
       "2             5.68  1.03                          3.17     1185  \n",
       "3             7.80  0.86                          3.45     1480  \n",
       "4             4.32  1.04                          2.93      735  "
      ]
     },
<<<<<<< Updated upstream
     "execution_count": 131,
=======
     "execution_count": 157,
>>>>>>> Stashed changes
     "metadata": {},
     "output_type": "execute_result"
    }
   ],
   "source": [
    "columns = [\"class\",\"Alcohol\", \"Malic acid\", \"Ash\", \"Alcalinity of ash\", \"Magnesium\", \"Total phenols\",  \"Flavanoids\", \"Nonflavanoid phenols\", \"Proanthocyanins\", \"Color intensity\", \"Hue\", \"OD280/OD315 of diluted wines\", \"Proline\"]\n",
    "df = pd.read_csv('MR_Framework/datasets/wine.data', names = columns)\n",
    "df.head()"
   ]
  },
  {
   "cell_type": "markdown",
   "metadata": {},
   "source": [
    "EXPLORACIÓN DE DATOS"
   ]
  },
  {
   "cell_type": "code",
<<<<<<< Updated upstream
   "execution_count": 132,
   "metadata": {},
   "outputs": [
    {
     "name": "stdout",
     "output_type": "stream",
     "text": [
      "14\n"
     ]
=======
   "execution_count": 158,
   "metadata": {},
   "outputs": [
    {
     "data": {
      "text/plain": [
       "Index(['class', 'Alcohol', 'Malic acid', 'Ash', 'Alcalinity of ash',\n",
       "       'Magnesium', 'Total phenols', 'Flavanoids', 'Nonflavanoid phenols',\n",
       "       'Proanthocyanins', 'Color intensity', 'Hue',\n",
       "       'OD280/OD315 of diluted wines', 'Proline'],\n",
       "      dtype='object')"
      ]
     },
     "execution_count": 158,
     "metadata": {},
     "output_type": "execute_result"
>>>>>>> Stashed changes
    }
   ],
   "source": [
    "print(len(df.columns))"
   ]
  },
  {
   "cell_type": "markdown",
   "metadata": {},
   "source": [
    "TIPO DE DATOS"
   ]
  },
  {
   "cell_type": "code",
<<<<<<< Updated upstream
   "execution_count": 133,
=======
   "execution_count": 159,
>>>>>>> Stashed changes
   "metadata": {},
   "outputs": [
    {
     "name": "stdout",
     "output_type": "stream",
     "text": [
      "<class 'pandas.core.frame.DataFrame'>\n",
      "RangeIndex: 178 entries, 0 to 177\n",
      "Data columns (total 14 columns):\n",
      " #   Column                        Non-Null Count  Dtype  \n",
      "---  ------                        --------------  -----  \n",
      " 0   class                         178 non-null    int64  \n",
      " 1   Alcohol                       178 non-null    float64\n",
      " 2   Malic acid                    178 non-null    float64\n",
      " 3   Ash                           178 non-null    float64\n",
      " 4   Alcalinity of ash             178 non-null    float64\n",
      " 5   Magnesium                     178 non-null    int64  \n",
      " 6   Total phenols                 178 non-null    float64\n",
      " 7   Flavanoids                    178 non-null    float64\n",
      " 8   Nonflavanoid phenols          178 non-null    float64\n",
      " 9   Proanthocyanins               178 non-null    float64\n",
      " 10  Color intensity               178 non-null    float64\n",
      " 11  Hue                           178 non-null    float64\n",
      " 12  OD280/OD315 of diluted wines  178 non-null    float64\n",
      " 13  Proline                       178 non-null    int64  \n",
      "dtypes: float64(11), int64(3)\n",
      "memory usage: 19.6 KB\n"
     ]
    }
   ],
   "source": [
    "df.info()"
   ]
  },
  {
   "cell_type": "markdown",
   "metadata": {},
   "source": [
    "Medidas Estadisticas de los datos"
   ]
  },
  {
   "cell_type": "code",
<<<<<<< Updated upstream
   "execution_count": 134,
=======
   "execution_count": 160,
>>>>>>> Stashed changes
   "metadata": {},
   "outputs": [
    {
     "data": {
      "text/html": [
       "<div>\n",
       "<style scoped>\n",
       "    .dataframe tbody tr th:only-of-type {\n",
       "        vertical-align: middle;\n",
       "    }\n",
       "\n",
       "    .dataframe tbody tr th {\n",
       "        vertical-align: top;\n",
       "    }\n",
       "\n",
       "    .dataframe thead th {\n",
       "        text-align: right;\n",
       "    }\n",
       "</style>\n",
       "<table border=\"1\" class=\"dataframe\">\n",
       "  <thead>\n",
       "    <tr style=\"text-align: right;\">\n",
       "      <th></th>\n",
       "      <th>class</th>\n",
       "      <th>Alcohol</th>\n",
       "      <th>Malic acid</th>\n",
       "      <th>Ash</th>\n",
       "      <th>Alcalinity of ash</th>\n",
       "      <th>Magnesium</th>\n",
       "      <th>Total phenols</th>\n",
       "      <th>Flavanoids</th>\n",
       "      <th>Nonflavanoid phenols</th>\n",
       "      <th>Proanthocyanins</th>\n",
       "      <th>Color intensity</th>\n",
       "      <th>Hue</th>\n",
       "      <th>OD280/OD315 of diluted wines</th>\n",
       "      <th>Proline</th>\n",
       "    </tr>\n",
       "  </thead>\n",
       "  <tbody>\n",
       "    <tr>\n",
       "      <th>count</th>\n",
       "      <td>178.000000</td>\n",
       "      <td>178.000000</td>\n",
       "      <td>178.000000</td>\n",
       "      <td>178.000000</td>\n",
       "      <td>178.000000</td>\n",
       "      <td>178.000000</td>\n",
       "      <td>178.000000</td>\n",
       "      <td>178.000000</td>\n",
       "      <td>178.000000</td>\n",
       "      <td>178.000000</td>\n",
       "      <td>178.000000</td>\n",
       "      <td>178.000000</td>\n",
       "      <td>178.000000</td>\n",
       "      <td>178.000000</td>\n",
       "    </tr>\n",
       "    <tr>\n",
       "      <th>mean</th>\n",
       "      <td>1.938202</td>\n",
       "      <td>13.000618</td>\n",
       "      <td>2.336348</td>\n",
       "      <td>2.366517</td>\n",
       "      <td>19.494944</td>\n",
       "      <td>99.741573</td>\n",
       "      <td>2.295112</td>\n",
       "      <td>2.029270</td>\n",
       "      <td>0.361854</td>\n",
       "      <td>1.590899</td>\n",
       "      <td>5.058090</td>\n",
       "      <td>0.957449</td>\n",
       "      <td>2.611685</td>\n",
       "      <td>746.893258</td>\n",
       "    </tr>\n",
       "    <tr>\n",
       "      <th>std</th>\n",
       "      <td>0.775035</td>\n",
       "      <td>0.811827</td>\n",
       "      <td>1.117146</td>\n",
       "      <td>0.274344</td>\n",
       "      <td>3.339564</td>\n",
       "      <td>14.282484</td>\n",
       "      <td>0.625851</td>\n",
       "      <td>0.998859</td>\n",
       "      <td>0.124453</td>\n",
       "      <td>0.572359</td>\n",
       "      <td>2.318286</td>\n",
       "      <td>0.228572</td>\n",
       "      <td>0.709990</td>\n",
       "      <td>314.907474</td>\n",
       "    </tr>\n",
       "    <tr>\n",
       "      <th>min</th>\n",
       "      <td>1.000000</td>\n",
       "      <td>11.030000</td>\n",
       "      <td>0.740000</td>\n",
       "      <td>1.360000</td>\n",
       "      <td>10.600000</td>\n",
       "      <td>70.000000</td>\n",
       "      <td>0.980000</td>\n",
       "      <td>0.340000</td>\n",
       "      <td>0.130000</td>\n",
       "      <td>0.410000</td>\n",
       "      <td>1.280000</td>\n",
       "      <td>0.480000</td>\n",
       "      <td>1.270000</td>\n",
       "      <td>278.000000</td>\n",
       "    </tr>\n",
       "    <tr>\n",
       "      <th>25%</th>\n",
       "      <td>1.000000</td>\n",
       "      <td>12.362500</td>\n",
       "      <td>1.602500</td>\n",
       "      <td>2.210000</td>\n",
       "      <td>17.200000</td>\n",
       "      <td>88.000000</td>\n",
       "      <td>1.742500</td>\n",
       "      <td>1.205000</td>\n",
       "      <td>0.270000</td>\n",
       "      <td>1.250000</td>\n",
       "      <td>3.220000</td>\n",
       "      <td>0.782500</td>\n",
       "      <td>1.937500</td>\n",
       "      <td>500.500000</td>\n",
       "    </tr>\n",
       "    <tr>\n",
       "      <th>50%</th>\n",
       "      <td>2.000000</td>\n",
       "      <td>13.050000</td>\n",
       "      <td>1.865000</td>\n",
       "      <td>2.360000</td>\n",
       "      <td>19.500000</td>\n",
       "      <td>98.000000</td>\n",
       "      <td>2.355000</td>\n",
       "      <td>2.135000</td>\n",
       "      <td>0.340000</td>\n",
       "      <td>1.555000</td>\n",
       "      <td>4.690000</td>\n",
       "      <td>0.965000</td>\n",
       "      <td>2.780000</td>\n",
       "      <td>673.500000</td>\n",
       "    </tr>\n",
       "    <tr>\n",
       "      <th>75%</th>\n",
       "      <td>3.000000</td>\n",
       "      <td>13.677500</td>\n",
       "      <td>3.082500</td>\n",
       "      <td>2.557500</td>\n",
       "      <td>21.500000</td>\n",
       "      <td>107.000000</td>\n",
       "      <td>2.800000</td>\n",
       "      <td>2.875000</td>\n",
       "      <td>0.437500</td>\n",
       "      <td>1.950000</td>\n",
       "      <td>6.200000</td>\n",
       "      <td>1.120000</td>\n",
       "      <td>3.170000</td>\n",
       "      <td>985.000000</td>\n",
       "    </tr>\n",
       "    <tr>\n",
       "      <th>max</th>\n",
       "      <td>3.000000</td>\n",
       "      <td>14.830000</td>\n",
       "      <td>5.800000</td>\n",
       "      <td>3.230000</td>\n",
       "      <td>30.000000</td>\n",
       "      <td>162.000000</td>\n",
       "      <td>3.880000</td>\n",
       "      <td>5.080000</td>\n",
       "      <td>0.660000</td>\n",
       "      <td>3.580000</td>\n",
       "      <td>13.000000</td>\n",
       "      <td>1.710000</td>\n",
       "      <td>4.000000</td>\n",
       "      <td>1680.000000</td>\n",
       "    </tr>\n",
       "  </tbody>\n",
       "</table>\n",
       "</div>"
      ],
      "text/plain": [
       "            class     Alcohol  Malic acid         Ash  Alcalinity of ash  \\\n",
       "count  178.000000  178.000000  178.000000  178.000000         178.000000   \n",
       "mean     1.938202   13.000618    2.336348    2.366517          19.494944   \n",
       "std      0.775035    0.811827    1.117146    0.274344           3.339564   \n",
       "min      1.000000   11.030000    0.740000    1.360000          10.600000   \n",
       "25%      1.000000   12.362500    1.602500    2.210000          17.200000   \n",
       "50%      2.000000   13.050000    1.865000    2.360000          19.500000   \n",
       "75%      3.000000   13.677500    3.082500    2.557500          21.500000   \n",
       "max      3.000000   14.830000    5.800000    3.230000          30.000000   \n",
       "\n",
       "        Magnesium  Total phenols  Flavanoids  Nonflavanoid phenols  \\\n",
       "count  178.000000     178.000000  178.000000            178.000000   \n",
       "mean    99.741573       2.295112    2.029270              0.361854   \n",
       "std     14.282484       0.625851    0.998859              0.124453   \n",
       "min     70.000000       0.980000    0.340000              0.130000   \n",
       "25%     88.000000       1.742500    1.205000              0.270000   \n",
       "50%     98.000000       2.355000    2.135000              0.340000   \n",
       "75%    107.000000       2.800000    2.875000              0.437500   \n",
       "max    162.000000       3.880000    5.080000              0.660000   \n",
       "\n",
       "       Proanthocyanins  Color intensity         Hue  \\\n",
       "count       178.000000       178.000000  178.000000   \n",
       "mean          1.590899         5.058090    0.957449   \n",
       "std           0.572359         2.318286    0.228572   \n",
       "min           0.410000         1.280000    0.480000   \n",
       "25%           1.250000         3.220000    0.782500   \n",
       "50%           1.555000         4.690000    0.965000   \n",
       "75%           1.950000         6.200000    1.120000   \n",
       "max           3.580000        13.000000    1.710000   \n",
       "\n",
       "       OD280/OD315 of diluted wines      Proline  \n",
       "count                    178.000000   178.000000  \n",
       "mean                       2.611685   746.893258  \n",
       "std                        0.709990   314.907474  \n",
       "min                        1.270000   278.000000  \n",
       "25%                        1.937500   500.500000  \n",
       "50%                        2.780000   673.500000  \n",
       "75%                        3.170000   985.000000  \n",
       "max                        4.000000  1680.000000  "
      ]
     },
<<<<<<< Updated upstream
     "execution_count": 134,
=======
     "execution_count": 160,
>>>>>>> Stashed changes
     "metadata": {},
     "output_type": "execute_result"
    }
   ],
   "source": [
    "df.describe()"
   ]
  },
  {
   "cell_type": "markdown",
   "metadata": {},
   "source": [
    "*INCONSISTENCIAS*"
   ]
  },
  {
   "cell_type": "code",
<<<<<<< Updated upstream
   "execution_count": 135,
=======
   "execution_count": 161,
>>>>>>> Stashed changes
   "metadata": {},
   "outputs": [
    {
     "data": {
      "text/plain": [
       "class                           178\n",
       "Alcohol                         178\n",
       "Malic acid                      178\n",
       "Ash                             178\n",
       "Alcalinity of ash               178\n",
       "Magnesium                       178\n",
       "Total phenols                   178\n",
       "Flavanoids                      178\n",
       "Nonflavanoid phenols            178\n",
       "Proanthocyanins                 178\n",
       "Color intensity                 178\n",
       "Hue                             178\n",
       "OD280/OD315 of diluted wines    178\n",
       "Proline                         178\n",
       "dtype: int64"
      ]
     },
<<<<<<< Updated upstream
     "execution_count": 135,
=======
     "execution_count": 161,
>>>>>>> Stashed changes
     "metadata": {},
     "output_type": "execute_result"
    }
   ],
   "source": [
    "df.notnull().sum()"
   ]
  },
  {
   "cell_type": "code",
<<<<<<< Updated upstream
   "execution_count": 136,
=======
   "execution_count": 162,
>>>>>>> Stashed changes
   "metadata": {},
   "outputs": [
    {
     "data": {
      "text/plain": [
       "class                           0\n",
       "Alcohol                         0\n",
       "Malic acid                      0\n",
       "Ash                             0\n",
       "Alcalinity of ash               0\n",
       "Magnesium                       0\n",
       "Total phenols                   0\n",
       "Flavanoids                      0\n",
       "Nonflavanoid phenols            0\n",
       "Proanthocyanins                 0\n",
       "Color intensity                 0\n",
       "Hue                             0\n",
       "OD280/OD315 of diluted wines    0\n",
       "Proline                         0\n",
       "dtype: int64"
      ]
     },
<<<<<<< Updated upstream
     "execution_count": 136,
=======
     "execution_count": 162,
>>>>>>> Stashed changes
     "metadata": {},
     "output_type": "execute_result"
    }
   ],
   "source": [
    "df.isna().sum()"
   ]
  },
  {
   "cell_type": "code",
<<<<<<< Updated upstream
   "execution_count": 137,
=======
   "execution_count": 183,
>>>>>>> Stashed changes
   "metadata": {},
   "outputs": [
    {
     "data": {
      "text/plain": [
       "<AxesSubplot:>"
      ]
     },
<<<<<<< Updated upstream
     "execution_count": 137,
=======
     "execution_count": 183,
>>>>>>> Stashed changes
     "metadata": {},
     "output_type": "execute_result"
    },
    {
     "data": {
      "image/png": "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",
      "text/plain": [
       "<Figure size 432x288 with 2 Axes>"
      ]
     },
     "metadata": {
      "needs_background": "light"
     },
     "output_type": "display_data"
    }
   ],
   "source": [
<<<<<<< Updated upstream
    "import seaborn as sns\n",
    "corr = df.corr()  # Coeficiente de Pearson\n",
    "sns.heatmap(corr)"
=======
    "corr = df.corr()  # Coeficiente de Pearson\n",
    "sb.heatmap(corr)"
   ]
  },
  {
   "cell_type": "code",
   "execution_count": 184,
   "metadata": {},
   "outputs": [
    {
     "data": {
      "image/png": "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",
      "text/plain": [
       "<Figure size 504x360 with 2 Axes>"
      ]
     },
     "metadata": {},
     "output_type": "display_data"
    }
   ],
   "source": [
    "import numpy as np\n",
    "\n",
    "mask = np.zeros_like(corr)\n",
    "mask[np.triu_indices_from(mask)] = True\n",
    "with sb.axes_style(\"white\"):\n",
    "    f, ax = plt.subplots(figsize=(7, 5))\n",
    "    ax = sb.heatmap(corr, mask=mask, vmax=1, square=True)"
   ]
  },
  {
   "cell_type": "code",
   "execution_count": 189,
   "metadata": {},
   "outputs": [
    {
     "data": {
      "text/plain": [
       "<seaborn.axisgrid.PairGrid at 0x1bd92cec160>"
      ]
     },
     "execution_count": 189,
     "metadata": {},
     "output_type": "execute_result"
    },
    {
     "data": {
      "image/png": "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",
      "text/plain": [
       "<Figure size 540x540 with 9 Axes>"
      ]
     },
     "metadata": {
      "needs_background": "light"
     },
     "output_type": "display_data"
    }
   ],
   "source": [
    "import matplotlib.pyplot as plt\n",
    "# Unicamente se seleccionan las columnas que contienen una correlacion mayor a 0.75\n",
    "selections = [\"Total phenols\", \"Flavanoids\", \"OD280/OD315 of diluted wines\"]\n",
    "dfNew = df[selections]\n",
    "g = sb.PairGrid(dfNew)\n",
    "g.map(plt.scatter)\n"
>>>>>>> Stashed changes
   ]
  },
  {
   "cell_type": "markdown",
   "metadata": {},
   "source": [
    "MODELADO"
   ]
  },
  {
   "cell_type": "code",
<<<<<<< Updated upstream
   "execution_count": 138,
=======
   "execution_count": 163,
>>>>>>> Stashed changes
   "metadata": {},
   "outputs": [],
   "source": [
    "x = df[[\"Malic acid\", \"Ash\", \"Alcalinity of ash\", \"Magnesium\", \"Total phenols\",  \"Flavanoids\", \"Nonflavanoid phenols\",\n",
    "        \"Proanthocyanins\", \"Color intensity\", \"Hue\", \"OD280/OD315 of diluted wines\", \"Proline\"]].values\n",
    "y = df[['Alcohol']].values\n"
   ]
  },
  {
   "cell_type": "code",
<<<<<<< Updated upstream
   "execution_count": 139,
   "metadata": {},
   "outputs": [],
   "source": [
    "# importamos la herramienta para dividir los datos de SciKit-Learn\n",
    "from sklearn.model_selection import train_test_split\n",
    "\n",
    "# asignación de los datos 80% para entrenamiento y 20% para prueba\n",
    "X_train, X_test, y_train, y_test = train_test_split(x, y, test_size = 0.2)\n"
=======
   "execution_count": 164,
   "metadata": {},
   "outputs": [],
   "source": [
    "from sklearn.linear_model import LinearRegression\n",
    "\n",
    "from sklearn.metrics import accuracy_score\n",
    "from sklearn.metrics import mean_squared_error\n",
    "from sklearn.model_selection import train_test_split\n",
    "\n",
    "X_train, x_test, y_train, y_test = train_test_split(x, y, test_size=0.2, random_state=0)\n"
>>>>>>> Stashed changes
   ]
  },
  {
   "cell_type": "code",
<<<<<<< Updated upstream
   "execution_count": 150,
   "metadata": {},
   "outputs": [],
   "source": [
    "# importamos la clase de regresión lineal\n",
    "from sklearn.linear_model import LinearRegression\n",
    "\n",
    "modelo_regresion = LinearRegression()  # modelo de regresión"
=======
   "execution_count": 167,
   "metadata": {},
   "outputs": [
    {
     "data": {
      "text/html": [
       "<style>#sk-container-id-7 {color: black;background-color: white;}#sk-container-id-7 pre{padding: 0;}#sk-container-id-7 div.sk-toggleable {background-color: white;}#sk-container-id-7 label.sk-toggleable__label {cursor: pointer;display: block;width: 100%;margin-bottom: 0;padding: 0.3em;box-sizing: border-box;text-align: center;}#sk-container-id-7 label.sk-toggleable__label-arrow:before {content: \"▸\";float: left;margin-right: 0.25em;color: #696969;}#sk-container-id-7 label.sk-toggleable__label-arrow:hover:before {color: black;}#sk-container-id-7 div.sk-estimator:hover label.sk-toggleable__label-arrow:before {color: black;}#sk-container-id-7 div.sk-toggleable__content {max-height: 0;max-width: 0;overflow: hidden;text-align: left;background-color: #f0f8ff;}#sk-container-id-7 div.sk-toggleable__content pre {margin: 0.2em;color: black;border-radius: 0.25em;background-color: #f0f8ff;}#sk-container-id-7 input.sk-toggleable__control:checked~div.sk-toggleable__content {max-height: 200px;max-width: 100%;overflow: auto;}#sk-container-id-7 input.sk-toggleable__control:checked~label.sk-toggleable__label-arrow:before {content: \"▾\";}#sk-container-id-7 div.sk-estimator input.sk-toggleable__control:checked~label.sk-toggleable__label {background-color: #d4ebff;}#sk-container-id-7 div.sk-label input.sk-toggleable__control:checked~label.sk-toggleable__label {background-color: #d4ebff;}#sk-container-id-7 input.sk-hidden--visually {border: 0;clip: rect(1px 1px 1px 1px);clip: rect(1px, 1px, 1px, 1px);height: 1px;margin: -1px;overflow: hidden;padding: 0;position: absolute;width: 1px;}#sk-container-id-7 div.sk-estimator {font-family: monospace;background-color: #f0f8ff;border: 1px dotted black;border-radius: 0.25em;box-sizing: border-box;margin-bottom: 0.5em;}#sk-container-id-7 div.sk-estimator:hover {background-color: #d4ebff;}#sk-container-id-7 div.sk-parallel-item::after {content: \"\";width: 100%;border-bottom: 1px solid gray;flex-grow: 1;}#sk-container-id-7 div.sk-label:hover label.sk-toggleable__label {background-color: #d4ebff;}#sk-container-id-7 div.sk-serial::before {content: \"\";position: absolute;border-left: 1px solid gray;box-sizing: border-box;top: 0;bottom: 0;left: 50%;z-index: 0;}#sk-container-id-7 div.sk-serial {display: flex;flex-direction: column;align-items: center;background-color: white;padding-right: 0.2em;padding-left: 0.2em;position: relative;}#sk-container-id-7 div.sk-item {position: relative;z-index: 1;}#sk-container-id-7 div.sk-parallel {display: flex;align-items: stretch;justify-content: center;background-color: white;position: relative;}#sk-container-id-7 div.sk-item::before, #sk-container-id-7 div.sk-parallel-item::before {content: \"\";position: absolute;border-left: 1px solid gray;box-sizing: border-box;top: 0;bottom: 0;left: 50%;z-index: -1;}#sk-container-id-7 div.sk-parallel-item {display: flex;flex-direction: column;z-index: 1;position: relative;background-color: white;}#sk-container-id-7 div.sk-parallel-item:first-child::after {align-self: flex-end;width: 50%;}#sk-container-id-7 div.sk-parallel-item:last-child::after {align-self: flex-start;width: 50%;}#sk-container-id-7 div.sk-parallel-item:only-child::after {width: 0;}#sk-container-id-7 div.sk-dashed-wrapped {border: 1px dashed gray;margin: 0 0.4em 0.5em 0.4em;box-sizing: border-box;padding-bottom: 0.4em;background-color: white;}#sk-container-id-7 div.sk-label label {font-family: monospace;font-weight: bold;display: inline-block;line-height: 1.2em;}#sk-container-id-7 div.sk-label-container {text-align: center;}#sk-container-id-7 div.sk-container {/* jupyter's `normalize.less` sets `[hidden] { display: none; }` but bootstrap.min.css set `[hidden] { display: none !important; }` so we also need the `!important` here to be able to override the default hidden behavior on the sphinx rendered scikit-learn.org. See: https://github.com/scikit-learn/scikit-learn/issues/21755 */display: inline-block !important;position: relative;}#sk-container-id-7 div.sk-text-repr-fallback {display: none;}</style><div id=\"sk-container-id-7\" class=\"sk-top-container\"><div class=\"sk-text-repr-fallback\"><pre>LinearRegression()</pre><b>In a Jupyter environment, please rerun this cell to show the HTML representation or trust the notebook. <br />On GitHub, the HTML representation is unable to render, please try loading this page with nbviewer.org.</b></div><div class=\"sk-container\" hidden><div class=\"sk-item\"><div class=\"sk-estimator sk-toggleable\"><input class=\"sk-toggleable__control sk-hidden--visually\" id=\"sk-estimator-id-7\" type=\"checkbox\" checked><label for=\"sk-estimator-id-7\" class=\"sk-toggleable__label sk-toggleable__label-arrow\">LinearRegression</label><div class=\"sk-toggleable__content\"><pre>LinearRegression()</pre></div></div></div></div></div>"
      ],
      "text/plain": [
       "LinearRegression()"
      ]
     },
     "execution_count": 167,
     "metadata": {},
     "output_type": "execute_result"
    }
   ],
   "source": [
    "modelo_regresion = LinearRegression()  # modelo de regresión\n",
    "modelo_regresion.fit(X_train, y_train)"
>>>>>>> Stashed changes
   ]
  },
  {
   "cell_type": "code",
<<<<<<< Updated upstream
   "execution_count": 141,
=======
   "execution_count": 169,
>>>>>>> Stashed changes
   "metadata": {},
   "outputs": [
    {
     "data": {
      "text/html": [
<<<<<<< Updated upstream
       "<style>#sk-container-id-6 {color: black;background-color: white;}#sk-container-id-6 pre{padding: 0;}#sk-container-id-6 div.sk-toggleable {background-color: white;}#sk-container-id-6 label.sk-toggleable__label {cursor: pointer;display: block;width: 100%;margin-bottom: 0;padding: 0.3em;box-sizing: border-box;text-align: center;}#sk-container-id-6 label.sk-toggleable__label-arrow:before {content: \"▸\";float: left;margin-right: 0.25em;color: #696969;}#sk-container-id-6 label.sk-toggleable__label-arrow:hover:before {color: black;}#sk-container-id-6 div.sk-estimator:hover label.sk-toggleable__label-arrow:before {color: black;}#sk-container-id-6 div.sk-toggleable__content {max-height: 0;max-width: 0;overflow: hidden;text-align: left;background-color: #f0f8ff;}#sk-container-id-6 div.sk-toggleable__content pre {margin: 0.2em;color: black;border-radius: 0.25em;background-color: #f0f8ff;}#sk-container-id-6 input.sk-toggleable__control:checked~div.sk-toggleable__content {max-height: 200px;max-width: 100%;overflow: auto;}#sk-container-id-6 input.sk-toggleable__control:checked~label.sk-toggleable__label-arrow:before {content: \"▾\";}#sk-container-id-6 div.sk-estimator input.sk-toggleable__control:checked~label.sk-toggleable__label {background-color: #d4ebff;}#sk-container-id-6 div.sk-label input.sk-toggleable__control:checked~label.sk-toggleable__label {background-color: #d4ebff;}#sk-container-id-6 input.sk-hidden--visually {border: 0;clip: rect(1px 1px 1px 1px);clip: rect(1px, 1px, 1px, 1px);height: 1px;margin: -1px;overflow: hidden;padding: 0;position: absolute;width: 1px;}#sk-container-id-6 div.sk-estimator {font-family: monospace;background-color: #f0f8ff;border: 1px dotted black;border-radius: 0.25em;box-sizing: border-box;margin-bottom: 0.5em;}#sk-container-id-6 div.sk-estimator:hover {background-color: #d4ebff;}#sk-container-id-6 div.sk-parallel-item::after {content: \"\";width: 100%;border-bottom: 1px solid gray;flex-grow: 1;}#sk-container-id-6 div.sk-label:hover label.sk-toggleable__label {background-color: #d4ebff;}#sk-container-id-6 div.sk-serial::before {content: \"\";position: absolute;border-left: 1px solid gray;box-sizing: border-box;top: 0;bottom: 0;left: 50%;z-index: 0;}#sk-container-id-6 div.sk-serial {display: flex;flex-direction: column;align-items: center;background-color: white;padding-right: 0.2em;padding-left: 0.2em;position: relative;}#sk-container-id-6 div.sk-item {position: relative;z-index: 1;}#sk-container-id-6 div.sk-parallel {display: flex;align-items: stretch;justify-content: center;background-color: white;position: relative;}#sk-container-id-6 div.sk-item::before, #sk-container-id-6 div.sk-parallel-item::before {content: \"\";position: absolute;border-left: 1px solid gray;box-sizing: border-box;top: 0;bottom: 0;left: 50%;z-index: -1;}#sk-container-id-6 div.sk-parallel-item {display: flex;flex-direction: column;z-index: 1;position: relative;background-color: white;}#sk-container-id-6 div.sk-parallel-item:first-child::after {align-self: flex-end;width: 50%;}#sk-container-id-6 div.sk-parallel-item:last-child::after {align-self: flex-start;width: 50%;}#sk-container-id-6 div.sk-parallel-item:only-child::after {width: 0;}#sk-container-id-6 div.sk-dashed-wrapped {border: 1px dashed gray;margin: 0 0.4em 0.5em 0.4em;box-sizing: border-box;padding-bottom: 0.4em;background-color: white;}#sk-container-id-6 div.sk-label label {font-family: monospace;font-weight: bold;display: inline-block;line-height: 1.2em;}#sk-container-id-6 div.sk-label-container {text-align: center;}#sk-container-id-6 div.sk-container {/* jupyter's `normalize.less` sets `[hidden] { display: none; }` but bootstrap.min.css set `[hidden] { display: none !important; }` so we also need the `!important` here to be able to override the default hidden behavior on the sphinx rendered scikit-learn.org. See: https://github.com/scikit-learn/scikit-learn/issues/21755 */display: inline-block !important;position: relative;}#sk-container-id-6 div.sk-text-repr-fallback {display: none;}</style><div id=\"sk-container-id-6\" class=\"sk-top-container\"><div class=\"sk-text-repr-fallback\"><pre>LinearRegression()</pre><b>In a Jupyter environment, please rerun this cell to show the HTML representation or trust the notebook. <br />On GitHub, the HTML representation is unable to render, please try loading this page with nbviewer.org.</b></div><div class=\"sk-container\" hidden><div class=\"sk-item\"><div class=\"sk-estimator sk-toggleable\"><input class=\"sk-toggleable__control sk-hidden--visually\" id=\"sk-estimator-id-6\" type=\"checkbox\" checked><label for=\"sk-estimator-id-6\" class=\"sk-toggleable__label sk-toggleable__label-arrow\">LinearRegression</label><div class=\"sk-toggleable__content\"><pre>LinearRegression()</pre></div></div></div></div></div>"
      ],
      "text/plain": [
       "LinearRegression()"
      ]
     },
     "execution_count": 141,
=======
       "<div>\n",
       "<style scoped>\n",
       "    .dataframe tbody tr th:only-of-type {\n",
       "        vertical-align: middle;\n",
       "    }\n",
       "\n",
       "    .dataframe tbody tr th {\n",
       "        vertical-align: top;\n",
       "    }\n",
       "\n",
       "    .dataframe thead th {\n",
       "        text-align: right;\n",
       "    }\n",
       "</style>\n",
       "<table border=\"1\" class=\"dataframe\">\n",
       "  <thead>\n",
       "    <tr style=\"text-align: right;\">\n",
       "      <th></th>\n",
       "      <th>Coeficientes</th>\n",
       "    </tr>\n",
       "  </thead>\n",
       "  <tbody>\n",
       "    <tr>\n",
       "      <th>Malic acid</th>\n",
       "      <td>0.102782</td>\n",
       "    </tr>\n",
       "    <tr>\n",
       "      <th>Ash</th>\n",
       "      <td>0.213418</td>\n",
       "    </tr>\n",
       "    <tr>\n",
       "      <th>Alcalinity of ash</th>\n",
       "      <td>-0.030699</td>\n",
       "    </tr>\n",
       "    <tr>\n",
       "      <th>Magnesium</th>\n",
       "      <td>0.003147</td>\n",
       "    </tr>\n",
       "    <tr>\n",
       "      <th>Total phenols</th>\n",
       "      <td>-0.021552</td>\n",
       "    </tr>\n",
       "    <tr>\n",
       "      <th>Flavanoids</th>\n",
       "      <td>0.223917</td>\n",
       "    </tr>\n",
       "    <tr>\n",
       "      <th>Nonflavanoid phenols</th>\n",
       "      <td>0.447181</td>\n",
       "    </tr>\n",
       "    <tr>\n",
       "      <th>Proanthocyanins</th>\n",
       "      <td>-0.265921</td>\n",
       "    </tr>\n",
       "    <tr>\n",
       "      <th>Color intensity</th>\n",
       "      <td>0.177491</td>\n",
       "    </tr>\n",
       "    <tr>\n",
       "      <th>Hue</th>\n",
       "      <td>0.223284</td>\n",
       "    </tr>\n",
       "    <tr>\n",
       "      <th>OD280/OD315 of diluted wines</th>\n",
       "      <td>0.122752</td>\n",
       "    </tr>\n",
       "    <tr>\n",
       "      <th>Proline</th>\n",
       "      <td>0.000802</td>\n",
       "    </tr>\n",
       "  </tbody>\n",
       "</table>\n",
       "</div>"
      ],
      "text/plain": [
       "                              Coeficientes\n",
       "Malic acid                        0.102782\n",
       "Ash                               0.213418\n",
       "Alcalinity of ash                -0.030699\n",
       "Magnesium                         0.003147\n",
       "Total phenols                    -0.021552\n",
       "Flavanoids                        0.223917\n",
       "Nonflavanoid phenols              0.447181\n",
       "Proanthocyanins                  -0.265921\n",
       "Color intensity                   0.177491\n",
       "Hue                               0.223284\n",
       "OD280/OD315 of diluted wines      0.122752\n",
       "Proline                           0.000802"
      ]
     },
     "execution_count": 169,
>>>>>>> Stashed changes
     "metadata": {},
     "output_type": "execute_result"
    }
   ],
   "source": [
<<<<<<< Updated upstream
    "# aprendizaje automático con base en nuestros datos\n",
    "modelo_regresion.fit(X_train, y_train)\n"
=======
    "x_columns = [\"Malic acid\", \"Ash\", \"Alcalinity of ash\", \"Magnesium\", \"Total phenols\",  \"Flavanoids\",\n",
    "             \"Nonflavanoid phenols\", \"Proanthocyanins\", \"Color intensity\", \"Hue\", \"OD280/OD315 of diluted wines\", \"Proline\"]\n",
    "coeff_df = pd.DataFrame(modelo_regresion.coef_[0],\n",
    "                        x_columns, columns=['Coeficientes'])\n",
    "coeff_df  # despliega los coefientes y sus valores; por cada unidad del coeficente, su impacto en las calorías será igual a su valor\n"
>>>>>>> Stashed changes
   ]
  },
  {
   "cell_type": "code",
<<<<<<< Updated upstream
   "execution_count": 142,
   "metadata": {},
   "outputs": [
    {
     "data": {
      "text/plain": [
       "array([[ 0.13802069, -0.03660808, -0.04290447,  0.00163565, -0.04524771,\n",
       "         0.00134568, -0.04386236,  0.14566042,  0.13904561,  0.20799682,\n",
       "         0.00114922]])"
      ]
     },
     "execution_count": 142,
     "metadata": {},
     "output_type": "execute_result"
    }
   ],
   "source": [
    "\n",
    "x_columns = [\"Malic acid\", \"Ash\", \"Alcalinity of ash\", \"Magnesium\", \"Total phenols\",  \"Flavanoids\", \"Nonflavanoid phenols\",\n",
    "             \"Proanthocyanins\", \"Color intensity\", \"Hue\", \"OD280/OD315 of diluted wines\", \"Proline\"]\n",
    "\n",
    "coeff_df = pd.DataFrame(modelo_regresion.coef_[0], x_columns, columns=['Coeficientes'])\n",
    "modelo_regresion.coef_\n"
=======
   "execution_count": 170,
   "metadata": {},
   "outputs": [],
   "source": [
    "# probamos nuestro modelo con los valores de prueba\n",
    "y_pred = modelo_regresion.predict(x_test)\n"
>>>>>>> Stashed changes
   ]
  },
  {
   "cell_type": "code",
<<<<<<< Updated upstream
   "execution_count": 143,
   "metadata": {},
   "outputs": [],
   "source": [
    "# probamos nuestro modelo con los valores de prueba\n",
    "y_pred = modelo_regresion.predict(X_test)\n",
    "y_pred = y_pred.reshape(1, 36)\n",
    "y_test = y_test.reshape(1, 36)"
=======
   "execution_count": 176,
   "metadata": {},
   "outputs": [
    {
     "data": {
      "text/plain": [
       "array([[13.63962961, 13.4920763 , 12.60234333, 13.4102733 , 12.48459613,\n",
       "        13.65687296, 13.9185171 , 13.10805453, 12.45154253, 12.17566095,\n",
       "        12.96367496, 12.55701056, 14.22837619, 12.89691184, 13.23876321,\n",
       "        12.15129457, 13.93785645, 14.87241909, 12.88655295, 13.67419613,\n",
       "        12.77004938, 13.28323141, 13.16276744, 12.47867416, 12.78563254,\n",
       "        12.12509354, 12.46784227, 12.14241633, 13.13441085, 13.3480099 ,\n",
       "        13.69065645, 13.61912127, 12.49709955, 13.81482794, 13.44608074,\n",
       "        13.22630355]])"
      ]
     },
     "execution_count": 176,
     "metadata": {},
     "output_type": "execute_result"
    }
   ],
   "source": [
    "y_pred.reshape(1, 36)"
>>>>>>> Stashed changes
   ]
  },
  {
   "cell_type": "code",
<<<<<<< Updated upstream
   "execution_count": 144,
=======
   "execution_count": 177,
>>>>>>> Stashed changes
   "metadata": {},
   "outputs": [
    {
     "data": {
      "text/html": [
       "<div>\n",
       "<style scoped>\n",
       "    .dataframe tbody tr th:only-of-type {\n",
       "        vertical-align: middle;\n",
       "    }\n",
       "\n",
       "    .dataframe tbody tr th {\n",
       "        vertical-align: top;\n",
       "    }\n",
       "\n",
       "    .dataframe thead th {\n",
       "        text-align: right;\n",
       "    }\n",
       "</style>\n",
       "<table border=\"1\" class=\"dataframe\">\n",
       "  <thead>\n",
       "    <tr style=\"text-align: right;\">\n",
       "      <th></th>\n",
       "      <th>Actual</th>\n",
<<<<<<< Updated upstream
       "      <th>Predicted</th>\n",
=======
       "      <th>Predicción</th>\n",
>>>>>>> Stashed changes
       "      <th>Diferencia</th>\n",
       "    </tr>\n",
       "  </thead>\n",
       "  <tbody>\n",
       "    <tr>\n",
       "      <th>0</th>\n",
       "      <td>13.74</td>\n",
<<<<<<< Updated upstream
       "      <td>13.606551</td>\n",
       "      <td>0.133449</td>\n",
       "    </tr>\n",
       "    <tr>\n",
       "      <th>1</th>\n",
       "      <td>12.77</td>\n",
       "      <td>12.521205</td>\n",
       "      <td>0.248795</td>\n",
=======
       "      <td>13.639630</td>\n",
       "      <td>0.100370</td>\n",
       "    </tr>\n",
       "    <tr>\n",
       "      <th>1</th>\n",
       "      <td>12.79</td>\n",
       "      <td>13.492076</td>\n",
       "      <td>-0.702076</td>\n",
>>>>>>> Stashed changes
       "    </tr>\n",
       "    <tr>\n",
       "      <th>2</th>\n",
       "      <td>12.37</td>\n",
<<<<<<< Updated upstream
       "      <td>12.646679</td>\n",
       "      <td>-0.276679</td>\n",
       "    </tr>\n",
       "    <tr>\n",
       "      <th>3</th>\n",
       "      <td>13.86</td>\n",
       "      <td>12.084701</td>\n",
       "      <td>1.775299</td>\n",
       "    </tr>\n",
       "    <tr>\n",
       "      <th>4</th>\n",
       "      <td>12.04</td>\n",
       "      <td>12.552389</td>\n",
       "      <td>-0.512389</td>\n",
       "    </tr>\n",
       "    <tr>\n",
       "      <th>5</th>\n",
       "      <td>14.21</td>\n",
       "      <td>13.789874</td>\n",
       "      <td>0.420126</td>\n",
       "    </tr>\n",
       "    <tr>\n",
       "      <th>6</th>\n",
       "      <td>12.37</td>\n",
       "      <td>12.438694</td>\n",
       "      <td>-0.068694</td>\n",
       "    </tr>\n",
       "    <tr>\n",
       "      <th>7</th>\n",
       "      <td>13.20</td>\n",
       "      <td>13.674799</td>\n",
       "      <td>-0.474799</td>\n",
       "    </tr>\n",
       "    <tr>\n",
       "      <th>8</th>\n",
       "      <td>14.16</td>\n",
       "      <td>13.381446</td>\n",
       "      <td>0.778554</td>\n",
       "    </tr>\n",
       "    <tr>\n",
       "      <th>9</th>\n",
       "      <td>12.52</td>\n",
       "      <td>12.018452</td>\n",
       "      <td>0.501548</td>\n",
=======
       "      <td>12.602343</td>\n",
       "      <td>-0.232343</td>\n",
       "    </tr>\n",
       "    <tr>\n",
       "      <th>3</th>\n",
       "      <td>13.56</td>\n",
       "      <td>13.410273</td>\n",
       "      <td>0.149727</td>\n",
       "    </tr>\n",
       "    <tr>\n",
       "      <th>4</th>\n",
       "      <td>13.05</td>\n",
       "      <td>12.484596</td>\n",
       "      <td>0.565404</td>\n",
       "    </tr>\n",
       "    <tr>\n",
       "      <th>5</th>\n",
       "      <td>11.56</td>\n",
       "      <td>13.656873</td>\n",
       "      <td>-2.096873</td>\n",
       "    </tr>\n",
       "    <tr>\n",
       "      <th>6</th>\n",
       "      <td>14.06</td>\n",
       "      <td>13.918517</td>\n",
       "      <td>0.141483</td>\n",
       "    </tr>\n",
       "    <tr>\n",
       "      <th>7</th>\n",
       "      <td>12.36</td>\n",
       "      <td>13.108055</td>\n",
       "      <td>-0.748055</td>\n",
       "    </tr>\n",
       "    <tr>\n",
       "      <th>8</th>\n",
       "      <td>12.25</td>\n",
       "      <td>12.451543</td>\n",
       "      <td>-0.201543</td>\n",
       "    </tr>\n",
       "    <tr>\n",
       "      <th>9</th>\n",
       "      <td>12.08</td>\n",
       "      <td>12.175661</td>\n",
       "      <td>-0.095661</td>\n",
       "    </tr>\n",
       "    <tr>\n",
       "      <th>10</th>\n",
       "      <td>13.36</td>\n",
       "      <td>12.963675</td>\n",
       "      <td>0.396325</td>\n",
       "    </tr>\n",
       "    <tr>\n",
       "      <th>11</th>\n",
       "      <td>13.88</td>\n",
       "      <td>12.557011</td>\n",
       "      <td>1.322989</td>\n",
       "    </tr>\n",
       "    <tr>\n",
       "      <th>12</th>\n",
       "      <td>14.20</td>\n",
       "      <td>14.228376</td>\n",
       "      <td>-0.028376</td>\n",
       "    </tr>\n",
       "    <tr>\n",
       "      <th>13</th>\n",
       "      <td>12.37</td>\n",
       "      <td>12.896912</td>\n",
       "      <td>-0.526912</td>\n",
       "    </tr>\n",
       "    <tr>\n",
       "      <th>14</th>\n",
       "      <td>13.58</td>\n",
       "      <td>13.238763</td>\n",
       "      <td>0.341237</td>\n",
       "    </tr>\n",
       "    <tr>\n",
       "      <th>15</th>\n",
       "      <td>12.00</td>\n",
       "      <td>12.151295</td>\n",
       "      <td>-0.151295</td>\n",
       "    </tr>\n",
       "    <tr>\n",
       "      <th>16</th>\n",
       "      <td>13.76</td>\n",
       "      <td>13.937856</td>\n",
       "      <td>-0.177856</td>\n",
       "    </tr>\n",
       "    <tr>\n",
       "      <th>17</th>\n",
       "      <td>14.19</td>\n",
       "      <td>14.872419</td>\n",
       "      <td>-0.682419</td>\n",
       "    </tr>\n",
       "    <tr>\n",
       "      <th>18</th>\n",
       "      <td>12.64</td>\n",
       "      <td>12.886553</td>\n",
       "      <td>-0.246553</td>\n",
       "    </tr>\n",
       "    <tr>\n",
       "      <th>19</th>\n",
       "      <td>13.83</td>\n",
       "      <td>13.674196</td>\n",
       "      <td>0.155804</td>\n",
       "    </tr>\n",
       "    <tr>\n",
       "      <th>20</th>\n",
       "      <td>13.11</td>\n",
       "      <td>12.770049</td>\n",
       "      <td>0.339951</td>\n",
       "    </tr>\n",
       "    <tr>\n",
       "      <th>21</th>\n",
       "      <td>13.05</td>\n",
       "      <td>13.283231</td>\n",
       "      <td>-0.233231</td>\n",
       "    </tr>\n",
       "    <tr>\n",
       "      <th>22</th>\n",
       "      <td>13.24</td>\n",
       "      <td>13.162767</td>\n",
       "      <td>0.077233</td>\n",
       "    </tr>\n",
       "    <tr>\n",
       "      <th>23</th>\n",
       "      <td>12.51</td>\n",
       "      <td>12.478674</td>\n",
       "      <td>0.031326</td>\n",
       "    </tr>\n",
       "    <tr>\n",
       "      <th>24</th>\n",
       "      <td>12.33</td>\n",
       "      <td>12.785633</td>\n",
       "      <td>-0.455633</td>\n",
>>>>>>> Stashed changes
       "    </tr>\n",
       "  </tbody>\n",
       "</table>\n",
       "</div>"
      ],
      "text/plain": [
<<<<<<< Updated upstream
       "   Actual  Predicted  Diferencia\n",
       "0   13.74  13.606551    0.133449\n",
       "1   12.77  12.521205    0.248795\n",
       "2   12.37  12.646679   -0.276679\n",
       "3   13.86  12.084701    1.775299\n",
       "4   12.04  12.552389   -0.512389\n",
       "5   14.21  13.789874    0.420126\n",
       "6   12.37  12.438694   -0.068694\n",
       "7   13.20  13.674799   -0.474799\n",
       "8   14.16  13.381446    0.778554\n",
       "9   12.52  12.018452    0.501548"
      ]
     },
     "execution_count": 144,
=======
       "    Actual  Predicción  Diferencia\n",
       "0    13.74   13.639630    0.100370\n",
       "1    12.79   13.492076   -0.702076\n",
       "2    12.37   12.602343   -0.232343\n",
       "3    13.56   13.410273    0.149727\n",
       "4    13.05   12.484596    0.565404\n",
       "5    11.56   13.656873   -2.096873\n",
       "6    14.06   13.918517    0.141483\n",
       "7    12.36   13.108055   -0.748055\n",
       "8    12.25   12.451543   -0.201543\n",
       "9    12.08   12.175661   -0.095661\n",
       "10   13.36   12.963675    0.396325\n",
       "11   13.88   12.557011    1.322989\n",
       "12   14.20   14.228376   -0.028376\n",
       "13   12.37   12.896912   -0.526912\n",
       "14   13.58   13.238763    0.341237\n",
       "15   12.00   12.151295   -0.151295\n",
       "16   13.76   13.937856   -0.177856\n",
       "17   14.19   14.872419   -0.682419\n",
       "18   12.64   12.886553   -0.246553\n",
       "19   13.83   13.674196    0.155804\n",
       "20   13.11   12.770049    0.339951\n",
       "21   13.05   13.283231   -0.233231\n",
       "22   13.24   13.162767    0.077233\n",
       "23   12.51   12.478674    0.031326\n",
       "24   12.33   12.785633   -0.455633"
      ]
     },
     "execution_count": 177,
>>>>>>> Stashed changes
     "metadata": {},
     "output_type": "execute_result"
    }
   ],
   "source": [
    "# creamos un dataframe con los valores actuales y los de predicción\n",
<<<<<<< Updated upstream
    "validacion = pd.DataFrame({'Actual': y_test[0], 'Predicted': y_pred[0], 'Diferencia': y_test[0] - y_pred[0] })\n",
    "validacion.head(10)"
=======
    "validacion = pd.DataFrame({'Actual': y_test.reshape(1, 36)[0] , 'Predicción': y_pred.reshape(1, 36)[0], 'Diferencia': y_test.reshape(1, 36)[0] - y_pred.reshape(1, 36)[0]})\n",
    "\n",
    "muestra_validacion = validacion.head(25)  # elegimos una muestra con 25 valores\n",
    "\n",
    "muestra_validacion  # desplegamos esos 25 valores"
>>>>>>> Stashed changes
   ]
  },
  {
   "cell_type": "code",
<<<<<<< Updated upstream
   "execution_count": 147,
=======
   "execution_count": 178,
>>>>>>> Stashed changes
   "metadata": {},
   "outputs": [
    {
     "data": {
      "text/plain": [
<<<<<<< Updated upstream
       "0.4651598625460165"
      ]
     },
     "execution_count": 147,
=======
       "count    36.000000\n",
       "mean     -0.057746\n",
       "std       0.634564\n",
       "min      -2.096873\n",
       "25%      -0.260079\n",
       "50%      -0.033109\n",
       "75%       0.340272\n",
       "max       1.383919\n",
       "Name: Diferencia, dtype: float64"
      ]
     },
     "execution_count": 178,
>>>>>>> Stashed changes
     "metadata": {},
     "output_type": "execute_result"
    }
   ],
   "source": [
<<<<<<< Updated upstream
    "from sklearn.metrics import mean_squared_error\n",
    "from sklearn.metrics import r2_score\n",
    "y_pred = y_pred.reshape(36, 1)\n",
    "y_test = y_test.reshape(36, 1)\n",
    "# importamos la métrica R cuadrada (coeficiente de determinación)\n",
    "r2_score(y_test, y_pred)  # ingresamos nuestros valores reales y calculados\n"
=======
    "validacion[\"Diferencia\"].describe()\n"
>>>>>>> Stashed changes
   ]
  },
  {
   "cell_type": "code",
<<<<<<< Updated upstream
   "execution_count": 146,
=======
   "execution_count": 179,
>>>>>>> Stashed changes
   "metadata": {},
   "outputs": [
    {
     "data": {
<<<<<<< Updated upstream
      "image/png": "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",
      "text/plain": [
       "<Figure size 1440x720 with 1 Axes>"
      ]
     },
     "metadata": {
      "needs_background": "light"
     },
     "output_type": "display_data"
    }
   ],
   "source": [
    "import matplotlib.pyplot as plt  # importamos la librería que nos permitirá graficar\n",
    "\n",
    "# creamos un gráfico de barras con el dataframe que contiene nuestros datos actuales y de predicción\n",
    "validacion.plot.bar(rot=0, figsize=(20, 10))\n",
    "\n",
    "# indicamos el título del gráfico\n",
    "plt.title(\"Comparación \")\n",
    "\n",
    "# indicamos la etiqueta del eje de las x\n",
    "plt.xlabel(\"Muestra\")\n",
    "\n",
    "# indicamos la etiqueta del eje de las y, la cantidad de calorías\n",
    "plt.ylabel(\"Cantidad de Alcohol\")\n",
    "\n",
    "plt.show()  # desplegamos el gráfico"
=======
      "text/plain": [
       "0.422535619638887"
      ]
     },
     "execution_count": 179,
     "metadata": {},
     "output_type": "execute_result"
    }
   ],
   "source": [
    "# importamos la métrica R cuadrada (coeficiente de determinación)\n",
    "from sklearn.metrics import r2_score\n",
    "\n",
    "r2_score(y_test, y_pred)  # ingresamos nuestros valores reales y calculados\n"
>>>>>>> Stashed changes
   ]
  },
  {
   "cell_type": "code",
<<<<<<< Updated upstream
   "execution_count": 149,
   "metadata": {},
   "outputs": [
    {
     "name": "stdout",
     "output_type": "stream",
     "text": [
      "Puntaje del r2  0.4651598625460165\n",
      "Error promedio  0.38328129917000947\n",
      "Error de la raiz cuadrada del promedio of is 0.619097164563051\n",
      "Scrore del modelo 0.4651598625460165\n"
=======
   "execution_count": 191,
   "metadata": {},
   "outputs": [
    {
     "data": {
      "image/png": "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",
      "text/plain": [
       "<Figure size 432x288 with 1 Axes>"
      ]
     },
     "metadata": {
      "needs_background": "light"
     },
     "output_type": "display_data"
    },
    {
     "name": "stdout",
     "output_type": "stream",
     "text": [
      "Puntaje del r2  0.422535619638887\n",
      "Error promedio  0.39482077365100327\n",
      "Error de la raiz cuadrada del promedio of is 0.6283476534936716\n"
>>>>>>> Stashed changes
     ]
    }
   ],
   "source": [
<<<<<<< Updated upstream
    "print('Puntaje del r2 ', r2_score(y_test, y_pred))\n",
    "print('Error promedio ', mean_squared_error(y_test, y_pred))\n",
    "print('Error de la raiz cuadrada del promedio of is',np.sqrt(mean_squared_error(y_test, y_pred)))\n",
    "print('Score del modelo', modelo_regresion.score(X_test, y_test))\n"
=======
    "import matplotlib.pyplot as plt  # importamos la librería que nos permitirá graficar\n",
    "\n",
    "# creamos un gráfico de barras con el dataframe que contiene nuestros datos actuales y de predicción\n",
    "muestra_validacion.plot.bar(rot=0)\n",
    "\n",
    "# indicamos el título del gráfico\n",
    "plt.title(\"Comparación de Alcohol actual y de predicción\")\n",
    "\n",
    "# indicamos la etiqueta del eje de las x\n",
    "plt.xlabel(\"Muestra\")\n",
    "\n",
    "# indicamos la etiqueta del eje de las y\n",
    "plt.ylabel(\"Cantidad de Alcohol\")\n",
    "\n",
    "plt.show()  # desplegamos el gráfico\n",
    "\n",
    "print('Puntaje del r2 ', r2_score(y_test, y_pred))\n",
    "print('Error promedio ', mean_squared_error(y_test, y_pred))\n",
    "print('Error de la raiz cuadrada del promedio of is',\n",
    "      np.sqrt(mean_squared_error(y_test, y_pred)))\n"
>>>>>>> Stashed changes
   ]
  }
 ],
 "metadata": {
  "kernelspec": {
   "display_name": "Python 3.9.13 64-bit (microsoft store)",
   "language": "python",
   "name": "python3"
  },
  "language_info": {
   "codemirror_mode": {
    "name": "ipython",
    "version": 3
   },
   "file_extension": ".py",
   "mimetype": "text/x-python",
   "name": "python",
   "nbconvert_exporter": "python",
   "pygments_lexer": "ipython3",
   "version": "3.9.13"
  },
  "orig_nbformat": 4,
  "vscode": {
   "interpreter": {
    "hash": "3c6f7744ee2f5e8940864a1e7c241a18fa564ab205e0627474a2ada2d174fc93"
   }
  }
 },
 "nbformat": 4,
 "nbformat_minor": 2
}
